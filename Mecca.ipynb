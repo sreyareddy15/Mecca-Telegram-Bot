{
  "nbformat": 4,
  "nbformat_minor": 0,
  "metadata": {
    "colab": {
      "name": "Mecca.ipynb",
      "provenance": [],
      "collapsed_sections": [],
      "authorship_tag": "ABX9TyPTovW0CPSJVC9oA7UXhniL",
      "include_colab_link": true
    },
    "kernelspec": {
      "name": "python3",
      "display_name": "Python 3"
    }
  },
  "cells": [
    {
      "cell_type": "markdown",
      "metadata": {
        "id": "view-in-github",
        "colab_type": "text"
      },
      "source": [
        "<a href=\"https://colab.research.google.com/github/sreyareddy15/Mecca-Telegram-Bot/blob/main/Mecca.ipynb\" target=\"_parent\"><img src=\"https://colab.research.google.com/assets/colab-badge.svg\" alt=\"Open In Colab\"/></a>"
      ]
    },
    {
      "cell_type": "markdown",
      "metadata": {
        "id": "dIB6ES-GE8IE"
      },
      "source": [
        " Mecca is a telegram bot where you can search about any function in any programming language and get information like syntax,meaning,example "
      ]
    },
    {
      "cell_type": "markdown",
      "metadata": {
        "id": "_5Db-ReXHuye"
      },
      "source": [
        "workflow is divided into 2 parts\n",
        "\n",
        "\n",
        "*   Fetching data from API\n",
        "*   Bot generation\n",
        "\n"
      ]
    },
    {
      "cell_type": "markdown",
      "metadata": {
        "id": "TiCkhZq6ICe8"
      },
      "source": [
        "#### Fetching Data from API\n",
        "\n",
        "Here I have used syntaxdb API to fetch data"
      ]
    },
    {
      "cell_type": "code",
      "metadata": {
        "id": "oF8r5gtmaDA0"
      },
      "source": [
        "# importing requests HTTP library\n",
        "import requests"
      ],
      "execution_count": 20,
      "outputs": []
    },
    {
      "cell_type": "code",
      "metadata": {
        "id": "WpZ7FJw6aC_j"
      },
      "source": [
        "# created a class to fetch json data\n",
        "\n",
        "class Syntaxdb:\n",
        "  def __init__(self,choice = 0 ,search= '',lan= ''):\n",
        "    self.Choice =choice\n",
        "    self.Search_query = search\n",
        "    self.Language = lan\n",
        "    if self.Choice == 0:\n",
        "      self.url = \"https://syntaxdb.com/api/v1/concepts/search?q=\" +self.Search_query\n",
        "    if self.Choice ==1:\n",
        "      self.url = \"https://syntaxdb.com/api/v1/languages/\"+self.Language+\"/concepts\"\n",
        "  def getResponse(self):\n",
        "    self.results = requests.get(self.url)\n",
        "    return self.results\n",
        "  def getJson(self):\n",
        "    self.json = self.results.json()\n",
        "    return self.json"
      ],
      "execution_count": 21,
      "outputs": []
    },
    {
      "cell_type": "code",
      "metadata": {
        "id": "SA8cPtdoaKcX"
      },
      "source": [
        "# created a function that converts the json data we got into a list \n",
        "\n",
        "def getContent(Syntaxdb):\n",
        "  results = Syntaxdb.getResponse()\n",
        "  json = Syntaxdb.getJson()\n",
        "  summary  =[]\n",
        "  # we filter the data and only take required fields of data\n",
        "  key = ['concept_search','syntax','description','notes','example']\n",
        "  for i in json:\n",
        "    l =[]\n",
        "    l = list(map(i.get,key))\n",
        "    summary.append(l)\n",
        "  return summary"
      ],
      "execution_count": 22,
      "outputs": []
    },
    {
      "cell_type": "code",
      "metadata": {
        "id": "qWZkZsM2aKzR",
        "outputId": "e0d8ca5f-41e1-409f-e90b-1721f66a55c5",
        "colab": {
          "base_uri": "https://localhost:8080/",
          "height": 289
        }
      },
      "source": [
        "# created a object and gave it to getContent() to get list data\n",
        "x = Syntaxdb(0,'list in python','')\n",
        "for i in getContent(x)[0]:\n",
        "  print(i)"
      ],
      "execution_count": 40,
      "outputs": [
        {
          "output_type": "stream",
          "text": [
            "Lists in Python\n",
            "list_name = [] #empty list to start\r\n",
            "list_name2 = [item1, item2] #non empty list to start\r\n",
            "\r\n",
            "list_name.append(item) #add to the list\r\n",
            "\r\n",
            "list_name[index] #access the item at the list index\n",
            "Lists are used to store multiple items sequentially in one variable. Equivalent of an array in other languages. Lists are mutable.\n",
            "Items inside of the list can be of different types. Data structures and other lists can also be stored within a list.\r\n",
            "\r\n",
            "The array index range is from 0 to size minus 1. Negative indices start at the end of the array and work backwards.\r\n",
            "\r\n",
            "Lists can be added (using addition operator) or concatenated (using the extend function). There are many other list functions, which can be found in the PyDocs.\n",
            "cities = [\"Toronto\", \"San Francisco\", \"Seattle\"]\r\n",
            "\r\n",
            "print (cities[0]) #prints Toronto\n"
          ],
          "name": "stdout"
        }
      ]
    },
    {
      "cell_type": "markdown",
      "metadata": {
        "id": "FEDlZXuPKdwV"
      },
      "source": [
        "# Telegram bot \n",
        "( generating + integration + deployment )"
      ]
    },
    {
      "cell_type": "code",
      "metadata": {
        "id": "a14PenjKHAG3"
      },
      "source": [
        "# use this command if you don't have it preinstalled\n",
        "# %pip install python-telegram-bot"
      ],
      "execution_count": 24,
      "outputs": []
    },
    {
      "cell_type": "code",
      "metadata": {
        "id": "_9qzGcenGw9a"
      },
      "source": [
        "# all required functions and libraries\n",
        "from telegram.ext import Updater\n",
        "from telegram.ext.commandhandler import CommandHandler\n",
        "from telegram.ext.callbackcontext import CallbackContext\n",
        "from telegram import Bot\n",
        "from time import sleep\n",
        "from telegram.update import Update\n",
        "from telegram.ext.dispatcher import Dispatcher"
      ],
      "execution_count": 25,
      "outputs": []
    },
    {
      "cell_type": "code",
      "metadata": {
        "id": "K5WpfxoAG6jT"
      },
      "source": [
        "# your API token that you get from botfather\n",
        "key = 'API token'"
      ],
      "execution_count": 26,
      "outputs": []
    },
    {
      "cell_type": "code",
      "metadata": {
        "id": "mGH_on6LHFHh",
        "outputId": "b36907da-7fc1-43db-eca9-fe2268390c66",
        "colab": {
          "base_uri": "https://localhost:8080/",
          "height": 54
        }
      },
      "source": [
        "# make a bot using your key\n",
        "# get me function will help you get basic information about your bot\n",
        "bot = Bot(key)\n",
        "print(bot.get_me())"
      ],
      "execution_count": 27,
      "outputs": [
        {
          "output_type": "stream",
          "text": [
            "{'id': 1262656577, 'first_name': 'Mecca', 'is_bot': True, 'username': 'in_all_bot', 'can_join_groups': True, 'can_read_all_group_messages': False, 'supports_inline_queries': False}\n"
          ],
          "name": "stdout"
        }
      ]
    },
    {
      "cell_type": "code",
      "metadata": {
        "id": "yLHnjTqCHT2V"
      },
      "source": [
        "# provides a frontend to telegram.Bot to the programmer, so they can focus on coding the bot. \n",
        "#Its purpose is to receive the updates from Telegram and to deliver them to said dispatcher\n",
        "updater = Updater(key,use_context=True)\n",
        "dispatcher :Dispatcher  = updater.dispatcher"
      ],
      "execution_count": 28,
      "outputs": []
    },
    {
      "cell_type": "code",
      "metadata": {
        "id": "s9WYCB_0HagM"
      },
      "source": [
        "# start function \n",
        "def start(update : Update, context : CallbackContext):\n",
        "    #bot.send_chat_action(chat_id= update.effective_chat.id,action = ChatAction.TYPING)\n",
        "    bot.send_message(chat_id=update.effective_chat.id, text=\"Welcome to Mecca\")"
      ],
      "execution_count": 29,
      "outputs": []
    },
    {
      "cell_type": "code",
      "metadata": {
        "id": "ozLF605_HtCv"
      },
      "source": [
        "#help function\n",
        "def help(update:Update,context:CallbackContext):\n",
        "  #bot.send_chat_action(chat_id= update.effective_chat.id,action = ChatAction.TYPING)\n",
        "  text = \"To use this bot,look at the format below!\\nsearch<concept_name><language>\\nExample: Suppose you want to know how to use the concept for in java \\n /search for in java.\"\n",
        "  bot.send_message(chat_id=update.effective_chat.id,text=text)"
      ],
      "execution_count": 30,
      "outputs": []
    },
    {
      "cell_type": "code",
      "metadata": {
        "id": "anVJvVuZa9xI"
      },
      "source": [
        "# search function\n",
        "def search(update:Update,context:CallbackContext):\n",
        "  arg = \" \".join(context.args)\n",
        "  # if search query is empty\n",
        "  if arg == \" \":\n",
        "    text = \"please make sure to enter valid search for me to help out\"\n",
        "    bot.send_message(chat_id=update.effective_chat.id,text=text)\n",
        "  # creating an object of Syntaxdb with giving query\n",
        "  x = Syntaxdb(choice = 0 ,search=arg,lan='')\n",
        "  # fetching list data\n",
        "  # even though we get list of many functions , we fetch the first most appropriate one ( we can change number of lists we want )\n",
        "  result = getContent(x)[0]\n",
        "  # sending list data to bot\n",
        "  for i in result:\n",
        "    bot.send_message(chat_id=update.effective_chat.id,text=i)\n",
        "  #if we don't find any results\n",
        "  if result == []:\n",
        "    bot.send_message(chat_id=update.effective_chat.id,text='there are no related searches to topic you entered!Make sure your search query was right and try again! check for spelling mistakes and follow the format in help')"
      ],
      "execution_count": 31,
      "outputs": []
    },
    {
      "cell_type": "code",
      "metadata": {
        "id": "vHBcnVGiH4ud"
      },
      "source": [
        "# it gets the command we got from bot and call back appropriate function \n",
        "dispatcher.add_handler(CommandHandler('start', start))\n",
        "dispatcher.add_handler(CommandHandler('help', help))\n",
        "dispatcher.add_handler(CommandHandler('search',search,pass_args=True))"
      ],
      "execution_count": 32,
      "outputs": []
    },
    {
      "cell_type": "code",
      "metadata": {
        "id": "K2CkMnwEH7f2",
        "outputId": "f6de5ee7-cfc6-4f6e-c2e2-701fa74cad4a",
        "colab": {
          "base_uri": "https://localhost:8080/",
          "height": 34
        }
      },
      "source": [
        "## Starts polling updates from Telegram.\n",
        "updater.start_polling()"
      ],
      "execution_count": 33,
      "outputs": [
        {
          "output_type": "execute_result",
          "data": {
            "text/plain": [
              "<queue.Queue at 0x7fdf30481fd0>"
            ]
          },
          "metadata": {
            "tags": []
          },
          "execution_count": 33
        }
      ]
    }
  ]
}